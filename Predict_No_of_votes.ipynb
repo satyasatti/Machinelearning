{
  "nbformat": 4,
  "nbformat_minor": 0,
  "metadata": {
    "kernelspec": {
      "name": "python3",
      "display_name": "Python 3"
    },
    "language_info": {
      "codemirror_mode": {
        "name": "ipython",
        "version": 3
      },
      "file_extension": ".py",
      "mimetype": "text/x-python",
      "name": "python",
      "nbconvert_exporter": "python",
      "pygments_lexer": "ipython3",
      "version": "3.6.5"
    },
    "colab": {
      "name": "Predict No of votes.ipynb",
      "version": "0.3.2",
      "provenance": [],
      "include_colab_link": true
    },
    "accelerator": "GPU"
  },
  "cells": [
    {
      "cell_type": "markdown",
      "metadata": {
        "id": "view-in-github",
        "colab_type": "text"
      },
      "source": [
        "<a href=\"https://colab.research.google.com/github/satyasatti/Machinelearning/blob/master/Predict_No_of_votes.ipynb\" target=\"_parent\"><img src=\"https://colab.research.google.com/assets/colab-badge.svg\" alt=\"Open In Colab\"/></a>"
      ]
    },
    {
      "cell_type": "markdown",
      "metadata": {
        "id": "8eTf8v84HkY_",
        "colab_type": "text"
      },
      "source": [
        "###  <font color = 'red'/> Problem Statement\n",
        "\n",
        "#### Predict number of upvotes\n",
        "\n",
        "Crowdsourced online content platforms have a constant need to identify the best content in time to appropriately promote and thereby improve the engagement at the website. This challenge involves a similar problem of predicting the upvote count for a queries posted and identify the parameters that affect it the most.\n",
        "\n"
      ]
    },
    {
      "cell_type": "code",
      "metadata": {
        "id": "QpjbOwLjHkZA",
        "colab_type": "code",
        "colab": {}
      },
      "source": [
        "# Load Libraries\n",
        "\n",
        "import numpy as np\n",
        "from pandas import read_csv\n",
        "from matplotlib import pyplot as plt\n",
        "from pandas import set_option\n",
        "from pandas import get_dummies\n",
        "from pandas import concat\n",
        "from pandas.plotting import scatter_matrix\n",
        "from sklearn.preprocessing import StandardScaler\n",
        "from sklearn.model_selection import train_test_split\n",
        "from sklearn.model_selection import KFold\n",
        "from sklearn.model_selection import cross_val_score\n",
        "from sklearn.model_selection import  GridSearchCV\n",
        "from sklearn.linear_model import LinearRegression\n",
        "from sklearn.linear_model import Lasso\n",
        "from sklearn.linear_model import ElasticNet\n",
        "from sklearn.tree import DecisionTreeRegressor\n",
        "from sklearn.neighbors import KNeighborsRegressor\n",
        "from sklearn.svm import SVR\n",
        "from sklearn.pipeline import Pipeline\n",
        "from sklearn.ensemble import RandomForestRegressor\n",
        "from sklearn.ensemble import GradientBoostingRegressor\n",
        "from sklearn.ensemble import ExtraTreesRegressor\n",
        "from sklearn.ensemble import AdaBoostRegressor\n",
        "from sklearn.metrics import mean_squared_error\n",
        "from sklearn.preprocessing import LabelEncoder\n",
        "import xgboost as xgb\n"
      ],
      "execution_count": 0,
      "outputs": []
    },
    {
      "cell_type": "markdown",
      "metadata": {
        "id": "bu6At9TwLIoZ",
        "colab_type": "text"
      },
      "source": [
        ""
      ]
    },
    {
      "cell_type": "code",
      "metadata": {
        "id": "sX94viyHHw7A",
        "colab_type": "code",
        "outputId": "2193aa35-27dd-4e22-f27f-8faeb40a8e0c",
        "colab": {
          "base_uri": "https://localhost:8080/",
          "height": 122
        }
      },
      "source": [
        "from google.colab import drive\n",
        "drive.mount('/content/drive')"
      ],
      "execution_count": 0,
      "outputs": [
        {
          "output_type": "stream",
          "text": [
            "Go to this URL in a browser: https://accounts.google.com/o/oauth2/auth?client_id=947318989803-6bn6qk8qdgf4n4g3pfee6491hc0brc4i.apps.googleusercontent.com&redirect_uri=urn%3Aietf%3Awg%3Aoauth%3A2.0%3Aoob&scope=email%20https%3A%2F%2Fwww.googleapis.com%2Fauth%2Fdocs.test%20https%3A%2F%2Fwww.googleapis.com%2Fauth%2Fdrive%20https%3A%2F%2Fwww.googleapis.com%2Fauth%2Fdrive.photos.readonly%20https%3A%2F%2Fwww.googleapis.com%2Fauth%2Fpeopleapi.readonly&response_type=code\n",
            "\n",
            "Enter your authorization code:\n",
            "··········\n",
            "Mounted at /content/drive\n"
          ],
          "name": "stdout"
        }
      ]
    },
    {
      "cell_type": "markdown",
      "metadata": {
        "id": "0ZBgN3PiHkZE",
        "colab_type": "text"
      },
      "source": [
        "### Load the data"
      ]
    },
    {
      "cell_type": "code",
      "metadata": {
        "id": "T-PIfIQNHkZE",
        "colab_type": "code",
        "colab": {}
      },
      "source": [
        "filename = 'train_NIR5Yl1.csv'\n",
        "dataset = read_csv('drive/My Drive/Projects/Predict no of #upvotes/Data/'+filename)"
      ],
      "execution_count": 0,
      "outputs": []
    },
    {
      "cell_type": "markdown",
      "metadata": {
        "id": "k_eoHurPHkZH",
        "colab_type": "text"
      },
      "source": [
        "### Analyse the data"
      ]
    },
    {
      "cell_type": "code",
      "metadata": {
        "id": "qSpjafW_HkZH",
        "colab_type": "code",
        "outputId": "7e29d1b9-c544-4312-fcc7-b92ff0daa7cb",
        "colab": {
          "base_uri": "https://localhost:8080/",
          "height": 204
        }
      },
      "source": [
        "dataset.head()"
      ],
      "execution_count": 0,
      "outputs": [
        {
          "output_type": "execute_result",
          "data": {
            "text/html": [
              "<div>\n",
              "<style scoped>\n",
              "    .dataframe tbody tr th:only-of-type {\n",
              "        vertical-align: middle;\n",
              "    }\n",
              "\n",
              "    .dataframe tbody tr th {\n",
              "        vertical-align: top;\n",
              "    }\n",
              "\n",
              "    .dataframe thead th {\n",
              "        text-align: right;\n",
              "    }\n",
              "</style>\n",
              "<table border=\"1\" class=\"dataframe\">\n",
              "  <thead>\n",
              "    <tr style=\"text-align: right;\">\n",
              "      <th></th>\n",
              "      <th>ID</th>\n",
              "      <th>Tag</th>\n",
              "      <th>Reputation</th>\n",
              "      <th>Answers</th>\n",
              "      <th>Username</th>\n",
              "      <th>Views</th>\n",
              "      <th>Upvotes</th>\n",
              "    </tr>\n",
              "  </thead>\n",
              "  <tbody>\n",
              "    <tr>\n",
              "      <th>0</th>\n",
              "      <td>52664</td>\n",
              "      <td>a</td>\n",
              "      <td>3942.0</td>\n",
              "      <td>2.0</td>\n",
              "      <td>155623</td>\n",
              "      <td>7855.0</td>\n",
              "      <td>42.0</td>\n",
              "    </tr>\n",
              "    <tr>\n",
              "      <th>1</th>\n",
              "      <td>327662</td>\n",
              "      <td>a</td>\n",
              "      <td>26046.0</td>\n",
              "      <td>12.0</td>\n",
              "      <td>21781</td>\n",
              "      <td>55801.0</td>\n",
              "      <td>1175.0</td>\n",
              "    </tr>\n",
              "    <tr>\n",
              "      <th>2</th>\n",
              "      <td>468453</td>\n",
              "      <td>c</td>\n",
              "      <td>1358.0</td>\n",
              "      <td>4.0</td>\n",
              "      <td>56177</td>\n",
              "      <td>8067.0</td>\n",
              "      <td>60.0</td>\n",
              "    </tr>\n",
              "    <tr>\n",
              "      <th>3</th>\n",
              "      <td>96996</td>\n",
              "      <td>a</td>\n",
              "      <td>264.0</td>\n",
              "      <td>3.0</td>\n",
              "      <td>168793</td>\n",
              "      <td>27064.0</td>\n",
              "      <td>9.0</td>\n",
              "    </tr>\n",
              "    <tr>\n",
              "      <th>4</th>\n",
              "      <td>131465</td>\n",
              "      <td>c</td>\n",
              "      <td>4271.0</td>\n",
              "      <td>4.0</td>\n",
              "      <td>112223</td>\n",
              "      <td>13986.0</td>\n",
              "      <td>83.0</td>\n",
              "    </tr>\n",
              "  </tbody>\n",
              "</table>\n",
              "</div>"
            ],
            "text/plain": [
              "       ID Tag  Reputation  Answers  Username    Views  Upvotes\n",
              "0   52664   a      3942.0      2.0    155623   7855.0     42.0\n",
              "1  327662   a     26046.0     12.0     21781  55801.0   1175.0\n",
              "2  468453   c      1358.0      4.0     56177   8067.0     60.0\n",
              "3   96996   a       264.0      3.0    168793  27064.0      9.0\n",
              "4  131465   c      4271.0      4.0    112223  13986.0     83.0"
            ]
          },
          "metadata": {
            "tags": []
          },
          "execution_count": 4
        }
      ]
    },
    {
      "cell_type": "markdown",
      "metadata": {
        "id": "Jo7D3snJHkZJ",
        "colab_type": "text"
      },
      "source": [
        "### Descriptive Statistics"
      ]
    },
    {
      "cell_type": "code",
      "metadata": {
        "id": "s-tfhjYiHkZK",
        "colab_type": "code",
        "outputId": "3f9361d9-dbfb-4ca6-ba72-8a428793cbeb",
        "colab": {
          "base_uri": "https://localhost:8080/",
          "height": 34
        }
      },
      "source": [
        "# Shape\n",
        "print(dataset.shape)"
      ],
      "execution_count": 0,
      "outputs": [
        {
          "output_type": "stream",
          "text": [
            "(330045, 7)\n"
          ],
          "name": "stdout"
        }
      ]
    },
    {
      "cell_type": "code",
      "metadata": {
        "id": "O1UQLH_kHkZM",
        "colab_type": "code",
        "outputId": "0795aafc-92d0-45a2-ebd0-0abc4cb76dfc",
        "colab": {
          "base_uri": "https://localhost:8080/",
          "height": 153
        }
      },
      "source": [
        "print(dataset.dtypes)"
      ],
      "execution_count": 0,
      "outputs": [
        {
          "output_type": "stream",
          "text": [
            "ID              int64\n",
            "Tag            object\n",
            "Reputation    float64\n",
            "Answers       float64\n",
            "Username        int64\n",
            "Views         float64\n",
            "Upvotes       float64\n",
            "dtype: object\n"
          ],
          "name": "stdout"
        }
      ]
    },
    {
      "cell_type": "code",
      "metadata": {
        "id": "hSjaBLyuHkZO",
        "colab_type": "code",
        "outputId": "8731cb7b-9b90-482c-bc48-a65c15ab4682",
        "colab": {
          "base_uri": "https://localhost:8080/",
          "height": 34
        }
      },
      "source": [
        "np.unique(np.array(dataset.ID)).size"
      ],
      "execution_count": 0,
      "outputs": [
        {
          "output_type": "execute_result",
          "data": {
            "text/plain": [
              "330045"
            ]
          },
          "metadata": {
            "tags": []
          },
          "execution_count": 7
        }
      ]
    },
    {
      "cell_type": "code",
      "metadata": {
        "id": "AbRRSFImHkZR",
        "colab_type": "code",
        "colab": {}
      },
      "source": [
        "data = dataset.drop('ID',axis=1)"
      ],
      "execution_count": 0,
      "outputs": []
    },
    {
      "cell_type": "code",
      "metadata": {
        "id": "jZkZCsyFHkZT",
        "colab_type": "code",
        "outputId": "57169b1d-7595-46b9-81c6-154561a0d2fb",
        "colab": {
          "base_uri": "https://localhost:8080/",
          "height": 274
        }
      },
      "source": [
        "import seaborn as sns\n",
        "\n",
        "tag_counts = data.Tag.value_counts()\n",
        "\n",
        "sns.set(style='darkgrid')\n",
        "\n",
        "sns.barplot(tag_counts.index,tag_counts.values,alpha=0.9)\n",
        "\n",
        "plt.show()"
      ],
      "execution_count": 0,
      "outputs": [
        {
          "output_type": "display_data",
          "data": {
            "image/png": "[encoded data removed]",
            "text/plain": [
              "<Figure size 432x288 with 1 Axes>"
            ]
          },
          "metadata": {
            "tags": []
          }
        }
      ]
    },
    {
      "cell_type": "code",
      "metadata": {
        "id": "fRD__jjZlzjk",
        "colab_type": "code",
        "outputId": "cc1b7517-fc76-4b86-e049-355ef7066801",
        "colab": {
          "base_uri": "https://localhost:8080/",
          "height": 164
        }
      },
      "source": [
        "sns.pieplot(tag_counts.index,tag_counts.values)"
      ],
      "execution_count": 0,
      "outputs": [
        {
          "output_type": "error",
          "ename": "AttributeError",
          "evalue": "ignored",
          "traceback": [
            "\u001b[0;31m---------------------------------------------------------------------------\u001b[0m",
            "\u001b[0;31mAttributeError\u001b[0m                            Traceback (most recent call last)",
            "\u001b[0;32m<ipython-input-18-39ed5815ef07>\u001b[0m in \u001b[0;36m<module>\u001b[0;34m()\u001b[0m\n\u001b[0;32m----> 1\u001b[0;31m \u001b[0msns\u001b[0m\u001b[0;34m.\u001b[0m\u001b[0mpieplot\u001b[0m\u001b[0;34m(\u001b[0m\u001b[0mtag_counts\u001b[0m\u001b[0;34m.\u001b[0m\u001b[0mindex\u001b[0m\u001b[0;34m,\u001b[0m\u001b[0mtag_counts\u001b[0m\u001b[0;34m.\u001b[0m\u001b[0mvalues\u001b[0m\u001b[0;34m)\u001b[0m\u001b[0;34m\u001b[0m\u001b[0;34m\u001b[0m\u001b[0m\n\u001b[0m",
            "\u001b[0;31mAttributeError\u001b[0m: module 'seaborn' has no attribute 'pieplot'"
          ]
        }
      ]
    },
    {
      "cell_type": "code",
      "metadata": {
        "id": "sqbEjPUajCoJ",
        "colab_type": "code",
        "outputId": "5d99dfe2-77a2-4723-8241-cc8c048b1e49",
        "colab": {
          "base_uri": "https://localhost:8080/",
          "height": 678
        }
      },
      "source": [
        "data.boxplot('Upvotes','Tag',rot = 30,figsize=(15,10))"
      ],
      "execution_count": 0,
      "outputs": [
        {
          "output_type": "execute_result",
          "data": {
            "text/plain": [
              "<matplotlib.axes._subplots.AxesSubplot at 0x7f8be4cdf438>"
            ]
          },
          "metadata": {
            "tags": []
          },
          "execution_count": 11
        },
        {
          "output_type": "display_data",
          "data": {
            "image/png": "[encoded data removed]",
            "text/plain": [
              "<Figure size 1080x720 with 1 Axes>"
            ]
          },
          "metadata": {
            "tags": []
          }
        }
      ]
    },
    {
      "cell_type": "code",
      "metadata": {
        "id": "gOCedW5FHkZV",
        "colab_type": "code",
        "colab": {}
      },
      "source": [
        "#tag_c = get_dummies(data.Tag)\n",
        "#data = concat([data,get_dummies(data.Tag)],axis=1)\n",
        "#LabelEncoder.fit_transform(data.Tag.values)\n",
        "le = LabelEncoder()\n",
        "le.fit(data.Tag.values)\n",
        "data['Tag_e'] = le.transform(data.Tag.values)"
      ],
      "execution_count": 0,
      "outputs": []
    },
    {
      "cell_type": "code",
      "metadata": {
        "id": "LkdM5amfjBLK",
        "colab_type": "code",
        "colab": {}
      },
      "source": [
        ""
      ],
      "execution_count": 0,
      "outputs": []
    },
    {
      "cell_type": "code",
      "metadata": {
        "id": "gCGgJJOnHkZb",
        "colab_type": "code",
        "colab": {}
      },
      "source": [
        "data = data.drop('Tag',axis=1)"
      ],
      "execution_count": 0,
      "outputs": []
    },
    {
      "cell_type": "code",
      "metadata": {
        "id": "4OaZRCTXHkZe",
        "colab_type": "code",
        "outputId": "eb0f35ea-ccc9-4745-c4e6-71196af64ca1",
        "colab": {
          "base_uri": "https://localhost:8080/",
          "height": 136
        }
      },
      "source": [
        "data.dtypes"
      ],
      "execution_count": 0,
      "outputs": [
        {
          "output_type": "execute_result",
          "data": {
            "text/plain": [
              "Reputation    float64\n",
              "Answers       float64\n",
              "Username        int64\n",
              "Views         float64\n",
              "Upvotes       float64\n",
              "Tag_e           int64\n",
              "dtype: object"
            ]
          },
          "metadata": {
            "tags": []
          },
          "execution_count": 12
        }
      ]
    },
    {
      "cell_type": "code",
      "metadata": {
        "id": "4-kCo7CBHkZg",
        "colab_type": "code",
        "outputId": "3a545930-d300-478b-ad7c-d862bf2551bd",
        "colab": {
          "base_uri": "https://localhost:8080/",
          "height": 204
        }
      },
      "source": [
        "data.head()"
      ],
      "execution_count": 0,
      "outputs": [
        {
          "output_type": "execute_result",
          "data": {
            "text/html": [
              "<div>\n",
              "<style scoped>\n",
              "    .dataframe tbody tr th:only-of-type {\n",
              "        vertical-align: middle;\n",
              "    }\n",
              "\n",
              "    .dataframe tbody tr th {\n",
              "        vertical-align: top;\n",
              "    }\n",
              "\n",
              "    .dataframe thead th {\n",
              "        text-align: right;\n",
              "    }\n",
              "</style>\n",
              "<table border=\"1\" class=\"dataframe\">\n",
              "  <thead>\n",
              "    <tr style=\"text-align: right;\">\n",
              "      <th></th>\n",
              "      <th>Reputation</th>\n",
              "      <th>Answers</th>\n",
              "      <th>Username</th>\n",
              "      <th>Views</th>\n",
              "      <th>Upvotes</th>\n",
              "      <th>Tag_e</th>\n",
              "    </tr>\n",
              "  </thead>\n",
              "  <tbody>\n",
              "    <tr>\n",
              "      <th>0</th>\n",
              "      <td>3942.0</td>\n",
              "      <td>2.0</td>\n",
              "      <td>155623</td>\n",
              "      <td>7855.0</td>\n",
              "      <td>42.0</td>\n",
              "      <td>0</td>\n",
              "    </tr>\n",
              "    <tr>\n",
              "      <th>1</th>\n",
              "      <td>26046.0</td>\n",
              "      <td>12.0</td>\n",
              "      <td>21781</td>\n",
              "      <td>55801.0</td>\n",
              "      <td>1175.0</td>\n",
              "      <td>0</td>\n",
              "    </tr>\n",
              "    <tr>\n",
              "      <th>2</th>\n",
              "      <td>1358.0</td>\n",
              "      <td>4.0</td>\n",
              "      <td>56177</td>\n",
              "      <td>8067.0</td>\n",
              "      <td>60.0</td>\n",
              "      <td>1</td>\n",
              "    </tr>\n",
              "    <tr>\n",
              "      <th>3</th>\n",
              "      <td>264.0</td>\n",
              "      <td>3.0</td>\n",
              "      <td>168793</td>\n",
              "      <td>27064.0</td>\n",
              "      <td>9.0</td>\n",
              "      <td>0</td>\n",
              "    </tr>\n",
              "    <tr>\n",
              "      <th>4</th>\n",
              "      <td>4271.0</td>\n",
              "      <td>4.0</td>\n",
              "      <td>112223</td>\n",
              "      <td>13986.0</td>\n",
              "      <td>83.0</td>\n",
              "      <td>1</td>\n",
              "    </tr>\n",
              "  </tbody>\n",
              "</table>\n",
              "</div>"
            ],
            "text/plain": [
              "   Reputation  Answers  Username    Views  Upvotes  Tag_e\n",
              "0      3942.0      2.0    155623   7855.0     42.0      0\n",
              "1     26046.0     12.0     21781  55801.0   1175.0      0\n",
              "2      1358.0      4.0     56177   8067.0     60.0      1\n",
              "3       264.0      3.0    168793  27064.0      9.0      0\n",
              "4      4271.0      4.0    112223  13986.0     83.0      1"
            ]
          },
          "metadata": {
            "tags": []
          },
          "execution_count": 13
        }
      ]
    },
    {
      "cell_type": "code",
      "metadata": {
        "id": "n-pi2yiRHkZi",
        "colab_type": "code",
        "outputId": "fa6bb55f-9593-4a3f-8a0b-28a431e59d06",
        "colab": {
          "base_uri": "https://localhost:8080/",
          "height": 170
        }
      },
      "source": [
        "# descriptions \n",
        "set_option('precision', 1) \n",
        "print(data.describe())\n"
      ],
      "execution_count": 0,
      "outputs": [
        {
          "output_type": "stream",
          "text": [
            "       Reputation   Answers  Username    Views   Upvotes     Tag_e\n",
            "count     3.3e+05  330045.0  330045.0  3.3e+05  330045.0  330045.0\n",
            "mean      7.8e+03       3.9   81442.9  3.0e+04     337.5       3.5\n",
            "std       2.7e+04       3.6   49215.1  8.1e+04    3592.4       2.5\n",
            "min       0.0e+00       0.0       0.0  9.0e+00       0.0       0.0\n",
            "25%       2.8e+02       2.0   39808.0  2.6e+03       8.0       1.0\n",
            "50%       1.2e+03       3.0   79010.0  9.0e+03      28.0       4.0\n",
            "75%       5.1e+03       5.0  122559.0  2.7e+04     107.0       6.0\n",
            "max       1.0e+06      76.0  175738.0  5.2e+06  615278.0       9.0\n"
          ],
          "name": "stdout"
        }
      ]
    },
    {
      "cell_type": "code",
      "metadata": {
        "id": "soReYdvHHkZk",
        "colab_type": "code",
        "outputId": "1ca3b7e2-c9de-4416-d7cf-8a041b6a5cd9",
        "colab": {
          "base_uri": "https://localhost:8080/",
          "height": 136
        }
      },
      "source": [
        "# Correlation\n",
        "set_option('precision',2)\n",
        "print(data.corr())"
      ],
      "execution_count": 0,
      "outputs": [
        {
          "output_type": "stream",
          "text": [
            "            Reputation  Answers  Username     Views   Upvotes     Tag_e\n",
            "Reputation        1.00     0.07 -4.10e-02  3.65e-02  2.67e-01 -2.40e-02\n",
            "Answers           0.07     1.00 -1.22e-02  4.99e-01  2.02e-01 -6.47e-02\n",
            "Username         -0.04    -0.01  1.00e+00  2.31e-03 -1.20e-02  1.26e-02\n",
            "Views             0.04     0.50  2.31e-03  1.00e+00  4.37e-01 -1.18e-02\n",
            "Upvotes           0.27     0.20 -1.20e-02  4.37e-01  1.00e+00 -4.30e-03\n",
            "Tag_e            -0.02    -0.06  1.26e-02 -1.18e-02 -4.30e-03  1.00e+00\n"
          ],
          "name": "stdout"
        }
      ]
    },
    {
      "cell_type": "markdown",
      "metadata": {
        "id": "bL_KtfhvHkZm",
        "colab_type": "text"
      },
      "source": [
        "### Data Visulizations"
      ]
    },
    {
      "cell_type": "code",
      "metadata": {
        "id": "pMCzk8b0HkZn",
        "colab_type": "code",
        "outputId": "5dcc0216-5dfd-4188-ca55-64869fcef56f",
        "colab": {
          "base_uri": "https://localhost:8080/",
          "height": 772
        }
      },
      "source": [
        "# Histograms\n",
        "data.hist(sharex=False,sharey=False,xlabelsize=1,ylabelsize=1,figsize=(16,11))"
      ],
      "execution_count": 0,
      "outputs": [
        {
          "output_type": "execute_result",
          "data": {
            "text/plain": [
              "array([[<matplotlib.axes._subplots.AxesSubplot object at 0x7f259d2b9780>,\n",
              "        <matplotlib.axes._subplots.AxesSubplot object at 0x7f259d2a4c88>],\n",
              "       [<matplotlib.axes._subplots.AxesSubplot object at 0x7f259d254240>,\n",
              "        <matplotlib.axes._subplots.AxesSubplot object at 0x7f259d1fa7b8>],\n",
              "       [<matplotlib.axes._subplots.AxesSubplot object at 0x7f259d222d30>,\n",
              "        <matplotlib.axes._subplots.AxesSubplot object at 0x7f259d1d52e8>]],\n",
              "      dtype=object)"
            ]
          },
          "metadata": {
            "tags": []
          },
          "execution_count": 16
        },
        {
          "output_type": "display_data",
          "data": {
            "image/png": "[encoded data removed]",
            "text/plain": [
              "<Figure size 1152x792 with 6 Axes>"
            ]
          },
          "metadata": {
            "tags": []
          }
        }
      ]
    },
    {
      "cell_type": "code",
      "metadata": {
        "id": "KZ7k5JxbHkZp",
        "colab_type": "code",
        "outputId": "88a04320-5caa-472e-b972-569551863fab",
        "colab": {
          "base_uri": "https://localhost:8080/",
          "height": 302
        }
      },
      "source": [
        "# Density\n",
        "data.plot(kind='density',subplots=True,layout=(4,4),sharex=False,legend=False,fontsize=1,figsize=(16,10))\n",
        "plt.show()"
      ],
      "execution_count": 0,
      "outputs": [
        {
          "output_type": "display_data",
          "data": {
            "image/png": "[encoded data removed]",
            "text/plain": [
              "<Figure size 1152x720 with 16 Axes>"
            ]
          },
          "metadata": {
            "tags": []
          }
        }
      ]
    },
    {
      "cell_type": "code",
      "metadata": {
        "id": "Rc1xwcteHkZr",
        "colab_type": "code",
        "outputId": "930dedb0-1594-460b-d3a8-3611a3123d2e",
        "colab": {
          "base_uri": "https://localhost:8080/",
          "height": 717
        }
      },
      "source": [
        "# Box and Whisker Plots\n",
        "dataset.plot(kind='box',subplots=True,sharex=False,sharey=True,fontsize=12,figsize=(16,10))"
      ],
      "execution_count": 0,
      "outputs": [
        {
          "output_type": "execute_result",
          "data": {
            "text/plain": [
              "ID               AxesSubplot(0.125,0.125;0.110714x0.755)\n",
              "Reputation    AxesSubplot(0.257857,0.125;0.110714x0.755)\n",
              "Answers       AxesSubplot(0.390714,0.125;0.110714x0.755)\n",
              "Username      AxesSubplot(0.523571,0.125;0.110714x0.755)\n",
              "Views         AxesSubplot(0.656429,0.125;0.110714x0.755)\n",
              "Upvotes       AxesSubplot(0.789286,0.125;0.110714x0.755)\n",
              "dtype: object"
            ]
          },
          "metadata": {
            "tags": []
          },
          "execution_count": 18
        },
        {
          "output_type": "display_data",
          "data": {
            "image/png": "[encoded data removed]",
            "text/plain": [
              "<Figure size 1152x720 with 6 Axes>"
            ]
          },
          "metadata": {
            "tags": []
          }
        }
      ]
    },
    {
      "cell_type": "markdown",
      "metadata": {
        "id": "BGIrd0rIHkZu",
        "colab_type": "text"
      },
      "source": [
        "### Multi Modal Visulizations"
      ]
    },
    {
      "cell_type": "code",
      "metadata": {
        "id": "x4wyh6Q-HkZw",
        "colab_type": "code",
        "outputId": "efad4685-bfc1-4068-bd0f-725845a7a7db",
        "colab": {
          "base_uri": "https://localhost:8080/",
          "height": 308
        }
      },
      "source": [
        "# scatter plot matrix\n",
        "scatter_matrix(dataset)\n",
        "plt.show()"
      ],
      "execution_count": 0,
      "outputs": [
        {
          "output_type": "display_data",
          "data": {
            "image/png": "[encoded data removed]",
            "text/plain": [
              "<Figure size 432x288 with 36 Axes>"
            ]
          },
          "metadata": {
            "tags": []
          }
        }
      ]
    },
    {
      "cell_type": "code",
      "metadata": {
        "id": "_xqRhGCbHkZ2",
        "colab_type": "code",
        "outputId": "8a2b0dda-f688-41db-ea34-ca0f4fd9f1cc",
        "colab": {
          "base_uri": "https://localhost:8080/",
          "height": 271
        }
      },
      "source": [
        "# correlation matrix\n",
        "\n",
        "fig = plt.figure() \n",
        "ax = fig.add_subplot(111) \n",
        "cax = ax.matshow(data.corr(), vmin=-1, vmax=1, interpolation='none') \n",
        "fig.colorbar(cax) \n",
        "ticks = np.arange(0,5,1) \n",
        "ax.set_xticks(ticks) \n",
        "ax.set_yticks(ticks) \n",
        "ax.set_xticklabels(data.columns) \n",
        "ax.set_yticklabels(data.columns)\n",
        "plt.show()\n"
      ],
      "execution_count": 0,
      "outputs": [
        {
          "output_type": "display_data",
          "data": {
            "image/png": "[encoded data removed]",
            "text/plain": [
              "<Figure size 432x288 with 2 Axes>"
            ]
          },
          "metadata": {
            "tags": []
          }
        }
      ]
    },
    {
      "cell_type": "markdown",
      "metadata": {
        "id": "GwtCQEXmHkZ7",
        "colab_type": "text"
      },
      "source": [
        "### Validation dataset"
      ]
    },
    {
      "cell_type": "code",
      "metadata": {
        "id": "Tn3TllBuHkZ8",
        "colab_type": "code",
        "colab": {}
      },
      "source": [
        "#split out validation dataset\n",
        "array = data.values\n",
        "X = data.drop('Upvotes',axis=1)\n",
        "y = data['Upvotes']\n",
        "validation_size = 0.20\n",
        "seed = 42\n",
        "X_train, X_validation, Y_train, Y_validation = train_test_split(X,y,test_size = validation_size,random_state=seed)\n"
      ],
      "execution_count": 0,
      "outputs": []
    },
    {
      "cell_type": "markdown",
      "metadata": {
        "id": "INmin251HkZ-",
        "colab_type": "text"
      },
      "source": [
        "### Evaluate Algorithms Baseline"
      ]
    },
    {
      "cell_type": "code",
      "metadata": {
        "id": "dvPDro8sHkZ-",
        "colab_type": "code",
        "colab": {}
      },
      "source": [
        "# test options and evaluation metric\n",
        "num_folds = 10\n",
        "seed = 7\n",
        "scoring = 'neg_mean_squared_error'\n"
      ],
      "execution_count": 0,
      "outputs": []
    },
    {
      "cell_type": "markdown",
      "metadata": {
        "id": "EtGm-xxhHkaB",
        "colab_type": "text"
      },
      "source": [
        "- Linear Algorithms: Linear Regression (LR), Lasso Regression (LASSO) and ElasticNet (EN). \n",
        "\n",
        "- Nonlinear Algorithms: Classification and Regression\n"
      ]
    },
    {
      "cell_type": "code",
      "metadata": {
        "id": "EMMD7VsWHkaC",
        "colab_type": "code",
        "colab": {}
      },
      "source": [
        "# Sport check Algos\n",
        "models = []\n",
        "models.append(('LR',LinearRegression()))\n",
        "models.append(('LASSO',Lasso()))\n",
        "models.append(('EN',ElasticNet()))\n",
        "models.append(('CART',DecisionTreeRegressor()))\n",
        "#models.append(('SR',SVR()))"
      ],
      "execution_count": 0,
      "outputs": []
    },
    {
      "cell_type": "code",
      "metadata": {
        "id": "0vaSp2OkHkaD",
        "colab_type": "code",
        "outputId": "b5a0b0d9-9510-456c-94c3-b4714ad24048",
        "colab": {
          "base_uri": "https://localhost:8080/",
          "height": 85
        }
      },
      "source": [
        "# Evaluate each model in turn\n",
        "results = []\n",
        "names = []\n",
        "for name,model in models:\n",
        "    Kfold = KFold(n_splits=num_folds,random_state=seed)\n",
        "    cv_results = cross_val_score(model,X_train,Y_train,cv=Kfold,scoring=scoring)\n",
        "    results.append(cv_results)\n",
        "    names.append(name)\n",
        "    msg = \"%s: %f %f\" % (name,cv_results.mean(),cv_results.std())\n",
        "    print(msg)"
      ],
      "execution_count": 0,
      "outputs": [
        {
          "output_type": "stream",
          "text": [
            "LR: -9055796.011263 4621634.353893\n",
            "LASSO: -9055796.562779 4621681.677219\n",
            "EN: -9055722.593255 4622417.567976\n",
            "CART: -3112906.466092 2564848.598488\n"
          ],
          "name": "stdout"
        }
      ]
    },
    {
      "cell_type": "code",
      "metadata": {
        "id": "CmTTiMNQHkaF",
        "colab_type": "code",
        "outputId": "e37fdfce-1993-4bce-a671-bac80d33461e",
        "colab": {
          "base_uri": "https://localhost:8080/",
          "height": 276
        }
      },
      "source": [
        "# compare Algorithms\n",
        "fig = plt.figure()\n",
        "#fig.subtitle('Algorithm comparision')\n",
        "ax = fig.add_subplot(111)\n",
        "plt.boxplot(results)\n",
        "ax.set_xticklabels(names)\n",
        "plt.show()\n"
      ],
      "execution_count": 0,
      "outputs": [
        {
          "output_type": "display_data",
          "data": {
            "image/png": "[encoded data removed]",
            "text/plain": [
              "<Figure size 432x288 with 1 Axes>"
            ]
          },
          "metadata": {
            "tags": []
          }
        }
      ]
    },
    {
      "cell_type": "code",
      "metadata": {
        "id": "rWeGc9XKHkaH",
        "colab_type": "code",
        "colab": {}
      },
      "source": [
        "\n",
        "\n"
      ],
      "execution_count": 0,
      "outputs": []
    },
    {
      "cell_type": "markdown",
      "metadata": {
        "id": "JdCYESekXG4b",
        "colab_type": "text"
      },
      "source": [
        "From above we can see that non linear algos working well . Less dispersion and less error\n",
        "\n",
        "###  Evaluate Algorithms: Standardization"
      ]
    },
    {
      "cell_type": "code",
      "metadata": {
        "id": "cjLJC-VrXN13",
        "colab_type": "code",
        "outputId": "67d638d9-2403-47cf-f59c-7a4f4206678c",
        "colab": {
          "base_uri": "https://localhost:8080/",
          "height": 102
        }
      },
      "source": [
        "pipelines = []\n",
        "pipelines.append(('ScaledLR', Pipeline([('Scaler', StandardScaler()),('LR', LinearRegression())]))) \n",
        "pipelines.append(('ScaledLASSO', Pipeline([('Scaler', StandardScaler()),('LASSO', Lasso())])))\n",
        "pipelines.append(('ScaledEN', Pipeline([('Scaler', StandardScaler()),('EN', ElasticNet())]))) \n",
        "pipelines.append(('ScaledKNN', Pipeline([('Scaler', StandardScaler()),('KNN', KNeighborsRegressor())]))) \n",
        "pipelines.append(('ScaledCART', Pipeline([('Scaler', StandardScaler()),('CART', DecisionTreeRegressor())])))\n",
        "\n",
        "results = []\n",
        "names =[]\n",
        "\n",
        "for name, model in pipelines:\n",
        "  kfold = KFold(n_splits=num_folds,random_state=seed)\n",
        "  cv_results = cross_val_score(model,X_train,Y_train,cv=kfold,scoring=scoring)\n",
        "  results.append(cv_results)\n",
        "  names.append(name)\n",
        "  print((name),cv_results.mean(),cv_results.std())\n",
        "\n"
      ],
      "execution_count": 0,
      "outputs": [
        {
          "output_type": "stream",
          "text": [
            "ScaledLR -9055796.011262896 4621634.35389252\n",
            "ScaledLASSO -9055805.077074783 4622602.732696251\n",
            "ScaledEN -9427848.099815521 4941490.089361121\n",
            "ScaledKNN -3409237.4099471704 1576025.8400596492\n",
            "ScaledCART -2983168.8357810327 2416023.906429576\n"
          ],
          "name": "stdout"
        }
      ]
    },
    {
      "cell_type": "code",
      "metadata": {
        "id": "ebd8TDx7Wowu",
        "colab_type": "code",
        "outputId": "b0653976-91ac-45e5-f202-d080a4f31ca8",
        "colab": {
          "base_uri": "https://localhost:8080/",
          "height": 294
        }
      },
      "source": [
        "# Compare Algoritms\n",
        "fig = plt.figure()\n",
        "fig.suptitle('Scaled Algo comparistion')\n",
        "ax = fig.add_subplot(111)\n",
        "plt.boxplot(results)\n",
        "ax.set_xticklabels(names)\n",
        "plt.show()"
      ],
      "execution_count": 0,
      "outputs": [
        {
          "output_type": "display_data",
          "data": {
            "image/png": "[encoded data removed]",
            "text/plain": [
              "<Figure size 432x288 with 1 Axes>"
            ]
          },
          "metadata": {
            "tags": []
          }
        }
      ]
    },
    {
      "cell_type": "markdown",
      "metadata": {
        "id": "pUDqZiVbb_0z",
        "colab_type": "text"
      },
      "source": [
        "### Improve results with Tuning"
      ]
    },
    {
      "cell_type": "code",
      "metadata": {
        "id": "Vfgu7jJdbkoO",
        "colab_type": "code",
        "outputId": "93d81bee-b28b-470d-a0ac-1110346a2b65",
        "colab": {
          "base_uri": "https://localhost:8080/",
          "height": 238
        }
      },
      "source": [
        "# Improve results with Tuning\n",
        "\n",
        "scaler = StandardScaler().fit(X_train)\n",
        "rescaledX = scaler.transform(X_train)\n",
        "sample_split_range = [2,6,10,20,30,50]\n",
        "num_leafs = [1, 5, 10, 20, 50, 100]\n",
        "param_grid = []\n",
        "param_grid.append(dict(min_samples_split=sample_split_range))\n",
        "param_grid.append(dict(min_samples_leaf = num_leafs))\n",
        "#param_grid.append(dict(criterion = ['gini','entropy']))\n",
        "model = DecisionTreeRegressor()\n",
        "kfold = KFold(n_splits=num_folds,random_state=seed)\n",
        "grid = GridSearchCV(estimator=model,param_grid=param_grid,scoring=scoring,cv=kfold)\n",
        "grid_result = grid.fit(rescaledX,Y_train)\n",
        "print(\"Best: %f using %s\" % (grid_result.best_score_, grid_result.best_params_)) \n",
        "means = grid_result.cv_results_['mean_test_score'] \n",
        "stds = grid_result.cv_results_['std_test_score'] \n",
        "params = grid_result.cv_results_['params'] \n",
        "for mean, stdev, param in zip(means, stds, params): \n",
        "  print(\"%f (%f) with: %r\" % (mean, stdev, param))\n",
        "\n",
        "\n",
        "\n"
      ],
      "execution_count": 0,
      "outputs": [
        {
          "output_type": "stream",
          "text": [
            "Best: -2678722.504767 using {'min_samples_leaf': 5}\n",
            "-2999993.433528 (2366974.159937) with: {'min_samples_split': 2}\n",
            "-2990577.448831 (2328978.507416) with: {'min_samples_split': 6}\n",
            "-2799898.581575 (2370678.582258) with: {'min_samples_split': 10}\n",
            "-3592357.018543 (2552300.957553) with: {'min_samples_split': 20}\n",
            "-3498838.238434 (2582551.231260) with: {'min_samples_split': 30}\n",
            "-3426213.217105 (2715562.929156) with: {'min_samples_split': 50}\n",
            "-3011165.807841 (2373661.618915) with: {'min_samples_leaf': 1}\n",
            "-2678722.504767 (2256885.920790) with: {'min_samples_leaf': 5}\n",
            "-3352386.637629 (2704782.612804) with: {'min_samples_leaf': 10}\n",
            "-3301052.621355 (2580543.414584) with: {'min_samples_leaf': 20}\n",
            "-4912320.929776 (3268475.780689) with: {'min_samples_leaf': 50}\n",
            "-6165398.561905 (3759821.984417) with: {'min_samples_leaf': 100}\n"
          ],
          "name": "stdout"
        }
      ]
    },
    {
      "cell_type": "markdown",
      "metadata": {
        "id": "fE0Zzv-NrDtn",
        "colab_type": "text"
      },
      "source": [
        "### Ensemble Methods\n",
        "Another way we can improve the accuracy is using ensemble methods\n",
        "\n",
        "-  **Boosting Algorithms: Adaboost,Gradient Boosting**\n",
        "- **Bagging Algorithms: Randomforest, Extra trees**"
      ]
    },
    {
      "cell_type": "code",
      "metadata": {
        "id": "xPsGHx8fieqy",
        "colab_type": "code",
        "outputId": "89ab10d1-efb0-4040-d6b5-41abfac7ab64",
        "colab": {
          "base_uri": "https://localhost:8080/",
          "height": 238
        }
      },
      "source": [
        "# Ensembles\n",
        "import warnings\n",
        "warnings.filterwarnings(\"ignore\")\n",
        "ensembles = []\n",
        "ensembles.append(('ScaledAB',Pipeline([('Scaler',StandardScaler()),('AB',AdaBoostRegressor())])))\n",
        "ensembles.append(('ScaledGB',Pipeline([('Scaler',StandardScaler()),('GBM',GradientBoostingRegressor())])))\n",
        "#ensembles.append(('ScaledRF',Pipeline([('Scaler',StandardScaler()),('RF',RandomForestRegressor())])))\n",
        "#ensembles.append(('ScaledET',Pipeline([('Scaler',StandardScaler()),('ET',ExtraTreesRegressor())])))\n",
        "ensembles.append(('ScaledXGB',Pipeline([('Scaler',StandardScaler()),('XG',xgb.XGBRegressor())])))\n",
        "\n",
        "results = []\n",
        "names = []\n",
        "\n",
        "for name, model in ensembles:\n",
        "  kfold = KFold(n_splits=num_folds,random_state=seed)\n",
        "  cv_results = cross_val_score(model,X_train,Y_train,cv = kfold,scoring=scoring)\n",
        "  results.append(cv_results)\n",
        "  names.append(name)\n",
        "  msg = \"%s: %f %f\"%(name,cv_results.mean(),cv_results.std())\n",
        "  print(msg)"
      ],
      "execution_count": 0,
      "outputs": [
        {
          "output_type": "stream",
          "text": [
            "ScaledAB: -12001771.536358 3769966.134830\n",
            "ScaledGB: -1681674.141471 990756.643157\n",
            "[14:18:17] WARNING: /workspace/src/objective/regression_obj.cu:152: reg:linear is now deprecated in favor of reg:squarederror.\n",
            "[14:18:25] WARNING: /workspace/src/objective/regression_obj.cu:152: reg:linear is now deprecated in favor of reg:squarederror.\n",
            "[14:18:33] WARNING: /workspace/src/objective/regression_obj.cu:152: reg:linear is now deprecated in favor of reg:squarederror.\n",
            "[14:18:41] WARNING: /workspace/src/objective/regression_obj.cu:152: reg:linear is now deprecated in favor of reg:squarederror.\n",
            "[14:18:49] WARNING: /workspace/src/objective/regression_obj.cu:152: reg:linear is now deprecated in favor of reg:squarederror.\n",
            "[14:18:58] WARNING: /workspace/src/objective/regression_obj.cu:152: reg:linear is now deprecated in favor of reg:squarederror.\n",
            "[14:19:06] WARNING: /workspace/src/objective/regression_obj.cu:152: reg:linear is now deprecated in favor of reg:squarederror.\n",
            "[14:19:14] WARNING: /workspace/src/objective/regression_obj.cu:152: reg:linear is now deprecated in favor of reg:squarederror.\n",
            "[14:19:22] WARNING: /workspace/src/objective/regression_obj.cu:152: reg:linear is now deprecated in favor of reg:squarederror.\n",
            "[14:19:30] WARNING: /workspace/src/objective/regression_obj.cu:152: reg:linear is now deprecated in favor of reg:squarederror.\n",
            "ScaledXGB: -1773596.294944 1081105.759386\n"
          ],
          "name": "stdout"
        }
      ]
    },
    {
      "cell_type": "code",
      "metadata": {
        "id": "OvKr-X5bv8Tj",
        "colab_type": "code",
        "outputId": "c77cec34-3f4b-4c0b-c246-4175d64f05f8",
        "colab": {
          "base_uri": "https://localhost:8080/",
          "height": 294
        }
      },
      "source": [
        "# Compare Algorithms \n",
        "fig = plt.figure() \n",
        "fig.suptitle('Scaled Ensemble Algorithm Comparison') \n",
        "ax = fig.add_subplot(111) \n",
        "plt.boxplot(results) \n",
        "ax.set_xticklabels(names) \n",
        "plt.show()\n"
      ],
      "execution_count": 0,
      "outputs": [
        {
          "output_type": "display_data",
          "data": {
            "image/png": "[encoded data removed]",
            "text/plain": [
              "<Figure size 432x288 with 1 Axes>"
            ]
          },
          "metadata": {
            "tags": []
          }
        }
      ]
    },
    {
      "cell_type": "markdown",
      "metadata": {
        "id": "spMLwE05Ehzb",
        "colab_type": "text"
      },
      "source": [
        "### Tune Ensemble Algorithms"
      ]
    },
    {
      "cell_type": "code",
      "metadata": {
        "id": "6Z8hX2jI0hE9",
        "colab_type": "code",
        "outputId": "a1c9c4cc-05a8-4ece-88a5-e981422f6519",
        "colab": {
          "base_uri": "https://localhost:8080/",
          "height": 232
        }
      },
      "source": [
        "# Tune Gradient Boosting\n",
        "scaler = StandardScaler().fit(X_train)\n",
        "rescaledX = scaler.transform(X_train)\n",
        "param_grid = dict(n_estimators = np.array([50,100,150,200,250,300,350,400]))\n",
        "model = GradientBoostingRegressor(random_state=seed)\n",
        "kfold = KFold(n_splits=num_folds,random_state=seed)\n",
        "grid = GridSearchCV(param_grid= param_grid,estimator = model,scoring=scoring, cv=kfold)\n",
        "grid_result = grid.fit(rescaledX,Y_train)\n",
        "print('Best : %f using %s'%(grid_result.best_score_,grid_result.best_params_))\n",
        "means = grid_result.grid_result.cv_results_['mean_test_score']\n",
        "stds = grid_result.grid_result.cv_results_['std_test_score']\n",
        "params = grid_result.cv_results_['params']\n",
        "\n",
        "for mean,stdev,param in zip(means,stds,params):\n",
        "  print('%f (%f) with : %f'%(mean,stdev,param))"
      ],
      "execution_count": 0,
      "outputs": [
        {
          "output_type": "error",
          "ename": "AttributeError",
          "evalue": "ignored",
          "traceback": [
            "\u001b[0;31m---------------------------------------------------------------------------\u001b[0m",
            "\u001b[0;31mAttributeError\u001b[0m                            Traceback (most recent call last)",
            "\u001b[0;32m<ipython-input-58-de52c299eeac>\u001b[0m in \u001b[0;36m<module>\u001b[0;34m()\u001b[0m\n\u001b[1;32m      6\u001b[0m \u001b[0mgrid\u001b[0m \u001b[0;34m=\u001b[0m \u001b[0mGridSearchCV\u001b[0m\u001b[0;34m(\u001b[0m\u001b[0mparam_grid\u001b[0m\u001b[0;34m=\u001b[0m \u001b[0mparam_grid\u001b[0m\u001b[0;34m,\u001b[0m\u001b[0mestimator\u001b[0m \u001b[0;34m=\u001b[0m \u001b[0mmodel\u001b[0m\u001b[0;34m,\u001b[0m\u001b[0mscoring\u001b[0m\u001b[0;34m=\u001b[0m\u001b[0mscoring\u001b[0m\u001b[0;34m,\u001b[0m \u001b[0mcv\u001b[0m\u001b[0;34m=\u001b[0m\u001b[0mkfold\u001b[0m\u001b[0;34m)\u001b[0m\u001b[0;34m\u001b[0m\u001b[0;34m\u001b[0m\u001b[0m\n\u001b[1;32m      7\u001b[0m \u001b[0mgrid_result\u001b[0m \u001b[0;34m=\u001b[0m \u001b[0mgrid\u001b[0m\u001b[0;34m.\u001b[0m\u001b[0mfit\u001b[0m\u001b[0;34m(\u001b[0m\u001b[0mrescaledX\u001b[0m\u001b[0;34m,\u001b[0m\u001b[0mY_train\u001b[0m\u001b[0;34m)\u001b[0m\u001b[0;34m\u001b[0m\u001b[0;34m\u001b[0m\u001b[0m\n\u001b[0;32m----> 8\u001b[0;31m \u001b[0mprint\u001b[0m\u001b[0;34m(\u001b[0m\u001b[0;34m'Best : %f using %s'\u001b[0m\u001b[0;34m%\u001b[0m\u001b[0;34m(\u001b[0m\u001b[0mgrid_result\u001b[0m\u001b[0;34m.\u001b[0m\u001b[0mbest_score_\u001b[0m\u001b[0;34m,\u001b[0m\u001b[0mgrid_result\u001b[0m\u001b[0;34m.\u001b[0m\u001b[0mgrid_result\u001b[0m\u001b[0;34m.\u001b[0m\u001b[0mbest_params_\u001b[0m\u001b[0;34m)\u001b[0m\u001b[0;34m)\u001b[0m\u001b[0;34m\u001b[0m\u001b[0;34m\u001b[0m\u001b[0m\n\u001b[0m\u001b[1;32m      9\u001b[0m \u001b[0mmeans\u001b[0m \u001b[0;34m=\u001b[0m \u001b[0mgrid_result\u001b[0m\u001b[0;34m.\u001b[0m\u001b[0mgrid_result\u001b[0m\u001b[0;34m.\u001b[0m\u001b[0mcv_results_\u001b[0m\u001b[0;34m[\u001b[0m\u001b[0;34m'mean_test_score'\u001b[0m\u001b[0;34m]\u001b[0m\u001b[0;34m\u001b[0m\u001b[0;34m\u001b[0m\u001b[0m\n\u001b[1;32m     10\u001b[0m \u001b[0mstds\u001b[0m \u001b[0;34m=\u001b[0m \u001b[0mgrid_result\u001b[0m\u001b[0;34m.\u001b[0m\u001b[0mgrid_result\u001b[0m\u001b[0;34m.\u001b[0m\u001b[0mcv_results_\u001b[0m\u001b[0;34m[\u001b[0m\u001b[0;34m'std_test_score'\u001b[0m\u001b[0;34m]\u001b[0m\u001b[0;34m\u001b[0m\u001b[0;34m\u001b[0m\u001b[0m\n",
            "\u001b[0;31mAttributeError\u001b[0m: 'GridSearchCV' object has no attribute 'grid_result'"
          ]
        }
      ]
    },
    {
      "cell_type": "code",
      "metadata": {
        "id": "asKOWHoKFs59",
        "colab_type": "code",
        "outputId": "8c4b8a7f-a420-4c54-ca2b-cbbf3e1323f7",
        "colab": {
          "base_uri": "https://localhost:8080/",
          "height": 170
        }
      },
      "source": [
        "print('Best : %f using %s'%(grid_result.best_score_,grid_result.best_params_))\n",
        "means = grid_result.cv_results_['mean_test_score']\n",
        "stds = grid_result.cv_results_['std_test_score']\n",
        "params = grid_result.cv_results_['params']\n",
        "\n",
        "for mean,stdev,param in zip(means,stds,params):\n",
        "  print('%f (%f) with : %f'%(mean,stdev,param['n_estimators']))"
      ],
      "execution_count": 0,
      "outputs": [
        {
          "output_type": "stream",
          "text": [
            "Best : -1667298.225415 using {'n_estimators': 250}\n",
            "-1880247.658159 (1155523.694606) with : 50.000000\n",
            "-1683210.601106 (994897.581614) with : 100.000000\n",
            "-1676005.021460 (983058.440511) with : 150.000000\n",
            "-1668336.879093 (966287.607846) with : 200.000000\n",
            "-1667298.225415 (959515.996703) with : 250.000000\n",
            "-1677189.739482 (958220.297722) with : 300.000000\n",
            "-1688301.983428 (966450.670182) with : 350.000000\n",
            "-1690752.002880 (965375.142048) with : 400.000000\n"
          ],
          "name": "stdout"
        }
      ]
    },
    {
      "cell_type": "code",
      "metadata": {
        "id": "-cdzdTHDNesR",
        "colab_type": "code",
        "outputId": "0b321556-a530-4c13-cef0-a538ce6a6dfb",
        "colab": {
          "base_uri": "https://localhost:8080/",
          "height": 170
        }
      },
      "source": [
        "# Prepare the model\n",
        "scaler = StandardScaler().fit(X_train)\n",
        "rescaledX = scaler.transform(X_train)\n",
        "model = GradientBoostingRegressor(n_estimators=250)\n",
        "model.fit(rescaledX,Y_train)"
      ],
      "execution_count": 0,
      "outputs": [
        {
          "output_type": "execute_result",
          "data": {
            "text/plain": [
              "GradientBoostingRegressor(alpha=0.9, criterion='friedman_mse', init=None,\n",
              "                          learning_rate=0.1, loss='ls', max_depth=3,\n",
              "                          max_features=None, max_leaf_nodes=None,\n",
              "                          min_impurity_decrease=0.0, min_impurity_split=None,\n",
              "                          min_samples_leaf=1, min_samples_split=2,\n",
              "                          min_weight_fraction_leaf=0.0, n_estimators=250,\n",
              "                          n_iter_no_change=None, presort='auto',\n",
              "                          random_state=None, subsample=1.0, tol=0.0001,\n",
              "                          validation_fraction=0.1, verbose=0, warm_start=False)"
            ]
          },
          "metadata": {
            "tags": []
          },
          "execution_count": 68
        }
      ]
    },
    {
      "cell_type": "code",
      "metadata": {
        "id": "kGOT8hCxN5YQ",
        "colab_type": "code",
        "outputId": "ed7489be-5d60-471b-c9a2-072f1b225c07",
        "colab": {
          "base_uri": "https://localhost:8080/",
          "height": 34
        }
      },
      "source": [
        "rescaledValidationX = scaler.transform(X_validation)\n",
        "predictions = model.predict(rescaledValidationX)\n",
        "print(mean_squared_error(Y_validation,predictions))"
      ],
      "execution_count": 0,
      "outputs": [
        {
          "output_type": "stream",
          "text": [
            "2068153.3886402142\n"
          ],
          "name": "stdout"
        }
      ]
    },
    {
      "cell_type": "markdown",
      "metadata": {
        "id": "3zpnyRrvRYhf",
        "colab_type": "text"
      },
      "source": [
        "### Predictions "
      ]
    },
    {
      "cell_type": "code",
      "metadata": {
        "id": "d5v0O9trRIry",
        "colab_type": "code",
        "colab": {}
      },
      "source": [
        "filename = 'test_8i3B3FC.csv'\n",
        "test_data = read_csv('drive/My Drive/Projects/Predict no of #upvotes/Data/'+filename)"
      ],
      "execution_count": 0,
      "outputs": []
    },
    {
      "cell_type": "code",
      "metadata": {
        "id": "JaIbNQq9RgGq",
        "colab_type": "code",
        "outputId": "7a96df58-1e8d-4b94-fac1-68f5efa87387",
        "colab": {
          "base_uri": "https://localhost:8080/",
          "height": 204
        }
      },
      "source": [
        "test_data.head()"
      ],
      "execution_count": 0,
      "outputs": [
        {
          "output_type": "execute_result",
          "data": {
            "text/html": [
              "<div>\n",
              "<style scoped>\n",
              "    .dataframe tbody tr th:only-of-type {\n",
              "        vertical-align: middle;\n",
              "    }\n",
              "\n",
              "    .dataframe tbody tr th {\n",
              "        vertical-align: top;\n",
              "    }\n",
              "\n",
              "    .dataframe thead th {\n",
              "        text-align: right;\n",
              "    }\n",
              "</style>\n",
              "<table border=\"1\" class=\"dataframe\">\n",
              "  <thead>\n",
              "    <tr style=\"text-align: right;\">\n",
              "      <th></th>\n",
              "      <th>ID</th>\n",
              "      <th>Tag</th>\n",
              "      <th>Reputation</th>\n",
              "      <th>Answers</th>\n",
              "      <th>Username</th>\n",
              "      <th>Views</th>\n",
              "    </tr>\n",
              "  </thead>\n",
              "  <tbody>\n",
              "    <tr>\n",
              "      <th>0</th>\n",
              "      <td>366953</td>\n",
              "      <td>a</td>\n",
              "      <td>5645.0</td>\n",
              "      <td>3.0</td>\n",
              "      <td>50652</td>\n",
              "      <td>33200.0</td>\n",
              "    </tr>\n",
              "    <tr>\n",
              "      <th>1</th>\n",
              "      <td>71864</td>\n",
              "      <td>c</td>\n",
              "      <td>24511.0</td>\n",
              "      <td>6.0</td>\n",
              "      <td>37685</td>\n",
              "      <td>2730.0</td>\n",
              "    </tr>\n",
              "    <tr>\n",
              "      <th>2</th>\n",
              "      <td>141692</td>\n",
              "      <td>i</td>\n",
              "      <td>927.0</td>\n",
              "      <td>1.0</td>\n",
              "      <td>135293</td>\n",
              "      <td>21167.0</td>\n",
              "    </tr>\n",
              "    <tr>\n",
              "      <th>3</th>\n",
              "      <td>316833</td>\n",
              "      <td>i</td>\n",
              "      <td>21.0</td>\n",
              "      <td>6.0</td>\n",
              "      <td>166998</td>\n",
              "      <td>18528.0</td>\n",
              "    </tr>\n",
              "    <tr>\n",
              "      <th>4</th>\n",
              "      <td>440445</td>\n",
              "      <td>i</td>\n",
              "      <td>4475.0</td>\n",
              "      <td>10.0</td>\n",
              "      <td>53504</td>\n",
              "      <td>57240.0</td>\n",
              "    </tr>\n",
              "  </tbody>\n",
              "</table>\n",
              "</div>"
            ],
            "text/plain": [
              "       ID Tag  Reputation  Answers  Username    Views\n",
              "0  366953   a      5645.0      3.0     50652  33200.0\n",
              "1   71864   c     24511.0      6.0     37685   2730.0\n",
              "2  141692   i       927.0      1.0    135293  21167.0\n",
              "3  316833   i        21.0      6.0    166998  18528.0\n",
              "4  440445   i      4475.0     10.0     53504  57240.0"
            ]
          },
          "metadata": {
            "tags": []
          },
          "execution_count": 88
        }
      ]
    },
    {
      "cell_type": "code",
      "metadata": {
        "id": "EBXGiUpXRh9r",
        "colab_type": "code",
        "colab": {}
      },
      "source": [
        "from pandas import DataFrame\n",
        "test = DataFrame()\n",
        "test['ID'] = test_data['ID']\n",
        "test_data = test_data.drop('ID',axis=1)"
      ],
      "execution_count": 0,
      "outputs": []
    },
    {
      "cell_type": "code",
      "metadata": {
        "id": "GgXnJpHSRrG4",
        "colab_type": "code",
        "colab": {}
      },
      "source": [
        "test_data['Tag_e'] = le.transform(test_data.Tag.values)"
      ],
      "execution_count": 0,
      "outputs": []
    },
    {
      "cell_type": "code",
      "metadata": {
        "id": "LuSswZV_R1-B",
        "colab_type": "code",
        "colab": {}
      },
      "source": [
        "test_data = test_data.drop('Tag',axis=1)"
      ],
      "execution_count": 0,
      "outputs": []
    },
    {
      "cell_type": "code",
      "metadata": {
        "id": "g3i5iooFR6zH",
        "colab_type": "code",
        "colab": {}
      },
      "source": [
        "rescaledValidationX = scaler.transform(test_data)\n",
        "predictions = model.predict(test_data)\n"
      ],
      "execution_count": 0,
      "outputs": []
    },
    {
      "cell_type": "code",
      "metadata": {
        "id": "j8SmNLPiSL68",
        "colab_type": "code",
        "colab": {}
      },
      "source": [
        "from pandas import Series\n",
        "test['Upvotes'] = Series(predictions)"
      ],
      "execution_count": 0,
      "outputs": []
    },
    {
      "cell_type": "code",
      "metadata": {
        "id": "Q3MCbX-bSNOJ",
        "colab_type": "code",
        "colab": {}
      },
      "source": [
        "filename= 'submission.csv'\n",
        "test.to_csv('drive/My Drive/Projects/Predict no of #upvotes/Data/'+ filename)"
      ],
      "execution_count": 0,
      "outputs": []
    },
    {
      "cell_type": "code",
      "metadata": {
        "id": "82xl82L1TQL8",
        "colab_type": "code",
        "outputId": "56caadf4-feef-482e-fabe-56ceba7bf3dd",
        "colab": {
          "base_uri": "https://localhost:8080/",
          "height": 34
        }
      },
      "source": [
        "%pwd"
      ],
      "execution_count": 0,
      "outputs": [
        {
          "output_type": "execute_result",
          "data": {
            "text/plain": [
              "'/content'"
            ]
          },
          "metadata": {
            "tags": []
          },
          "execution_count": 95
        }
      ]
    },
    {
      "cell_type": "code",
      "metadata": {
        "id": "rnluSY0ETSWS",
        "colab_type": "code",
        "colab": {}
      },
      "source": [
        ""
      ],
      "execution_count": 0,
      "outputs": []
    }
  ]
}